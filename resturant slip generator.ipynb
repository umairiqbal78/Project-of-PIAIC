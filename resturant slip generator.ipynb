{
 "cells": [
  {
   "cell_type": "code",
   "execution_count": 2,
   "metadata": {},
   "outputs": [
    {
     "name": "stdout",
     "output_type": "stream",
     "text": [
      "Do you want to eat something?yes\n",
      "MENU\n",
      "Dishes         Price\n",
      "Cheese burger     200\n",
      "Zinger Burger     400\n",
      "Cheese Pizza      450\n",
      "French Fries       90\n",
      "what do you want to order?\n",
      "cheese burger\n",
      "Do you want to order something else?zinger burger\n"
     ]
    },
    {
     "ename": "NameError",
     "evalue": "name 'ask2' is not defined",
     "output_type": "error",
     "traceback": [
      "\u001b[1;31m---------------------------------------------------------------------------\u001b[0m",
      "\u001b[1;31mNameError\u001b[0m                                 Traceback (most recent call last)",
      "\u001b[1;32m<ipython-input-2-989c20d949b9>\u001b[0m in \u001b[0;36m<module>\u001b[1;34m\u001b[0m\n\u001b[0;32m     31\u001b[0m \u001b[1;33m\u001b[0m\u001b[0m\n\u001b[0;32m     32\u001b[0m \u001b[0mbill\u001b[0m \u001b[1;33m=\u001b[0m \u001b[1;33m[\u001b[0m\u001b[1;33m]\u001b[0m\u001b[1;33m\u001b[0m\u001b[1;33m\u001b[0m\u001b[0m\n\u001b[1;32m---> 33\u001b[1;33m \u001b[0mbill\u001b[0m\u001b[1;33m.\u001b[0m\u001b[0mappend\u001b[0m\u001b[1;33m(\u001b[0m\u001b[0mzinger_burger\u001b[0m\u001b[1;33m(\u001b[0m\u001b[1;33m)\u001b[0m\u001b[1;33m)\u001b[0m\u001b[1;33m\u001b[0m\u001b[1;33m\u001b[0m\u001b[0m\n\u001b[0m\u001b[0;32m     34\u001b[0m \u001b[0mprint\u001b[0m\u001b[1;33m(\u001b[0m\u001b[0mbill\u001b[0m\u001b[1;33m)\u001b[0m\u001b[1;33m\u001b[0m\u001b[1;33m\u001b[0m\u001b[0m\n\u001b[0;32m     35\u001b[0m \u001b[1;33m\u001b[0m\u001b[0m\n",
      "\u001b[1;32m<ipython-input-2-989c20d949b9>\u001b[0m in \u001b[0;36mzinger_burger\u001b[1;34m()\u001b[0m\n\u001b[0;32m      7\u001b[0m \u001b[1;33m\u001b[0m\u001b[0m\n\u001b[0;32m      8\u001b[0m \u001b[1;32mdef\u001b[0m \u001b[0mzinger_burger\u001b[0m\u001b[1;33m(\u001b[0m\u001b[1;33m)\u001b[0m\u001b[1;33m:\u001b[0m\u001b[1;33m\u001b[0m\u001b[1;33m\u001b[0m\u001b[0m\n\u001b[1;32m----> 9\u001b[1;33m         \u001b[0mbill\u001b[0m \u001b[1;33m=\u001b[0m \u001b[0mask2\u001b[0m\u001b[1;33m*\u001b[0m\u001b[0mdishes\u001b[0m\u001b[1;33m[\u001b[0m\u001b[1;34m\"Zinger Burger\"\u001b[0m\u001b[1;33m]\u001b[0m\u001b[1;33m\u001b[0m\u001b[1;33m\u001b[0m\u001b[0m\n\u001b[0m\u001b[0;32m     10\u001b[0m         \u001b[0mbill_detail\u001b[0m \u001b[1;33m=\u001b[0m \u001b[0mstr\u001b[0m\u001b[1;33m(\u001b[0m\u001b[0mask2\u001b[0m\u001b[1;33m)\u001b[0m\u001b[1;33m+\u001b[0m\u001b[1;34m\"xZINGER BURGER\"\u001b[0m\u001b[1;33m+\u001b[0m\u001b[1;34m\"=\"\u001b[0m\u001b[1;33m+\u001b[0m\u001b[0mstr\u001b[0m\u001b[1;33m(\u001b[0m\u001b[0mask2\u001b[0m\u001b[1;33m*\u001b[0m\u001b[0mdishes\u001b[0m\u001b[1;33m[\u001b[0m\u001b[1;34m\"Zinger Burger\"\u001b[0m\u001b[1;33m]\u001b[0m\u001b[1;33m)\u001b[0m\u001b[1;33m\u001b[0m\u001b[1;33m\u001b[0m\u001b[0m\n\u001b[0;32m     11\u001b[0m         \u001b[1;32mreturn\u001b[0m \u001b[0mbill\u001b[0m\u001b[1;33m\u001b[0m\u001b[1;33m\u001b[0m\u001b[0m\n",
      "\u001b[1;31mNameError\u001b[0m: name 'ask2' is not defined"
     ]
    }
   ],
   "source": [
    "ask = input(\"Do you want to eat something?\")\n",
    "\n",
    "dishes = {\"Cheese burger\": 200,\"Zinger Burger\":400,\"Cheese Pizza \":450,\"French Fries \":90}\n",
    "print(\"MENU\\nDishes         Price\")\n",
    "for keys,values in dishes.items():\n",
    "    print(\"{:1}{:8}\".format(keys,values))\n",
    "    \n",
    "def zinger_burger():\n",
    "        bill = ask2*dishes[\"Zinger Burger\"]\n",
    "        bill_detail = str(ask2)+\"xZINGER BURGER\"+\"=\"+str(ask2*dishes[\"Zinger Burger\"])\n",
    "        return bill\n",
    "    \n",
    "def cheese_burger():\n",
    "            bill = ask2*dishes[\"Cheese burger\"]\n",
    "            bill_detail = str(ask2)+\"xZINGER BURGER\"+\"=\"+str(ask2*dishes[\"Zinger Burger\"])\n",
    "            return bill\n",
    "    \n",
    "ask1 = input(\"what do you want to order?\\n\").lower()\n",
    "if ask1 == \"zinger burger\":\n",
    "    ask2 = int(input(\"how much quantity do you want to order?\"))\n",
    "    zinger_burger()\n",
    "ask3 = input(\"Do you want to order something else?\").lower()\n",
    "while ask3 == \"yes\":\n",
    "    ask4 = input(\"what do you want to order?\").lower()\n",
    "    if ask4 == \"cheese burger\":\n",
    "        cheese_burger()\n",
    "    elif ask3 == \"no\":\n",
    "        break\n",
    "            \n",
    "        \n",
    "    \n",
    "bill = []\n",
    "bill.append(zinger_burger())\n",
    "print(bill)\n",
    "\n",
    "\n",
    "    \n",
    "\n",
    "        \n",
    "    "
   ]
  },
  {
   "cell_type": "code",
   "execution_count": 69,
   "metadata": {},
   "outputs": [
    {
     "name": "stdout",
     "output_type": "stream",
     "text": [
      "how much quantity do you want to order?3\n",
      "1200\n"
     ]
    }
   ],
   "source": [
    "ask3 = input(\"Do you want to order something else?\").lower()\n",
    "    while ask3 == \"yes\":\n",
    "        ask4 = input(\"what do you want to order?\\n\").lower()\n",
    "        if ask4 == \"cheese burger\":\n",
    "            def zinger_burger():\n",
    "                bill = \"ZINGER BURGER\"+ str(ask2*dishes[\"Zinger Burger\"])\n",
    "                return bill"
   ]
  },
  {
   "cell_type": "code",
   "execution_count": 60,
   "metadata": {},
   "outputs": [
    {
     "data": {
      "text/plain": [
       "400"
      ]
     },
     "execution_count": 60,
     "metadata": {},
     "output_type": "execute_result"
    }
   ],
   "source": [
    "dishes[\"Zinger Burger\"]"
   ]
  },
  {
   "cell_type": "code",
   "execution_count": 3,
   "metadata": {},
   "outputs": [
    {
     "name": "stdout",
     "output_type": "stream",
     "text": [
      "Do you want to eat something?yes\n",
      "MENU\n",
      "Dishes         Price\n",
      "Cheese burger     200\n",
      "Zinger Burger     400\n",
      "Cheese Pizza      450\n",
      "French Fries       90\n",
      "what do you want to eat?:cheese burger\n",
      "How much do you want to eat?4\n",
      "what do you want to eat?:zinger burger\n",
      "How much do you want to eat?4\n",
      "what do you want to eat?:no\n",
      "thank you\n",
      "2400\n"
     ]
    }
   ],
   "source": [
    "bill = []\n",
    "ask = input(\"Do you want to eat something?\")\n",
    "\n",
    "dishes = {\"Cheese burger\": 200,\"Zinger Burger\":400,\"Cheese Pizza \":450,\"French Fries \":90}\n",
    "print(\"MENU\\nDishes         Price\")\n",
    "for keys,values in dishes.items():\n",
    "    print(\"{:1}{:8}\".format(keys,values))\n",
    "while True:\n",
    "    ask1 = input(\"what do you want to eat?:\")\n",
    "    \n",
    "    if ask1 == \"cheese burger\":\n",
    "        ask2 = int(input(\"How much do you want to eat?\"))\n",
    "        def cheese_burger():\n",
    "            bill = ask2*dishes[\"Cheese burger\"]\n",
    "            #bill_detail = str(ask2)+\"xZINGER BURGER\"+\"=\"+str(ask2*dishes[\"Zinger Burger\"])\n",
    "            return bill\n",
    "        cheese_burger()\n",
    "        bill.append(cheese_burger())\n",
    "        \n",
    "    elif ask1 == \"zinger burger\":\n",
    "        ask2 = int(input(\"How much do you want to eat?\"))\n",
    "        def zinger_burger():\n",
    "            bill = ask2*dishes[\"Zinger Burger\"]\n",
    "            #bill_detail = str(ask2)+\"xZINGER BURGER\"+\"=\"+str(ask2*dishes[\"Zinger Burger\"])\n",
    "            return bill\n",
    "        zinger_burger()\n",
    "        bill.append(zinger_burger())\n",
    "        \n",
    "    else:\n",
    "        print(\"thank you\")\n",
    "        break\n",
    "\n",
    "\n",
    "total = sum(bill)\n",
    "print(total)\n",
    "        \n",
    "        \n",
    "        "
   ]
  },
  {
   "cell_type": "code",
   "execution_count": 5,
   "metadata": {},
   "outputs": [],
   "source": []
  },
  {
   "cell_type": "code",
   "execution_count": null,
   "metadata": {},
   "outputs": [],
   "source": []
  },
  {
   "cell_type": "code",
   "execution_count": null,
   "metadata": {},
   "outputs": [],
   "source": []
  }
 ],
 "metadata": {
  "kernelspec": {
   "display_name": "Python 3",
   "language": "python",
   "name": "python3"
  },
  "language_info": {
   "codemirror_mode": {
    "name": "ipython",
    "version": 3
   },
   "file_extension": ".py",
   "mimetype": "text/x-python",
   "name": "python",
   "nbconvert_exporter": "python",
   "pygments_lexer": "ipython3",
   "version": "3.7.3"
  }
 },
 "nbformat": 4,
 "nbformat_minor": 2
}

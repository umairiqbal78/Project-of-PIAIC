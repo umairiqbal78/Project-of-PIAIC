{
 "cells": [
  {
   "cell_type": "code",
   "execution_count": 1,
   "metadata": {},
   "outputs": [
    {
     "name": "stderr",
     "output_type": "stream",
     "text": [
      "Using TensorFlow backend.\n"
     ]
    }
   ],
   "source": [
    "import numpy\n",
    "import pandas\n",
    "from keras.models import Sequential\n",
    "from keras.layers import Dense\n",
    "from keras.wrappers.scikit_learn import KerasClassifier\n",
    "from sklearn.model_selection import cross_val_score\n",
    "from sklearn.preprocessing import LabelEncoder\n",
    "from sklearn.model_selection import StratifiedKFold\n",
    "from sklearn.preprocessing import StandardScaler\n",
    "from sklearn.pipeline import Pipeline\n"
   ]
  },
  {
   "cell_type": "code",
   "execution_count": 2,
   "metadata": {},
   "outputs": [],
   "source": [
    "seed = 7\n",
    "numpy.random.seed(seed)"
   ]
  },
  {
   "cell_type": "code",
   "execution_count": 3,
   "metadata": {},
   "outputs": [],
   "source": [
    "dataframe = pandas.read_csv('sonar.csv', header = None)"
   ]
  },
  {
   "cell_type": "code",
   "execution_count": 4,
   "metadata": {},
   "outputs": [],
   "source": [
    "dataset = dataframe.values"
   ]
  },
  {
   "cell_type": "code",
   "execution_count": 5,
   "metadata": {},
   "outputs": [],
   "source": [
    "X = dataset[:,0:60].astype(float)\n",
    "Y = dataset[:,60]"
   ]
  },
  {
   "cell_type": "code",
   "execution_count": 6,
   "metadata": {},
   "outputs": [],
   "source": [
    "from sklearn import preprocessing\n",
    "labelencod = preprocessing.LabelEncoder()"
   ]
  },
  {
   "cell_type": "code",
   "execution_count": 7,
   "metadata": {},
   "outputs": [
    {
     "data": {
      "text/plain": [
       "array([[0.02  , 0.0371, 0.0428, ..., 0.0084, 0.009 , 0.0032],\n",
       "       [0.0453, 0.0523, 0.0843, ..., 0.0049, 0.0052, 0.0044],\n",
       "       [0.0262, 0.0582, 0.1099, ..., 0.0164, 0.0095, 0.0078],\n",
       "       ...,\n",
       "       [0.0522, 0.0437, 0.018 , ..., 0.0138, 0.0077, 0.0031],\n",
       "       [0.0303, 0.0353, 0.049 , ..., 0.0079, 0.0036, 0.0048],\n",
       "       [0.026 , 0.0363, 0.0136, ..., 0.0036, 0.0061, 0.0115]])"
      ]
     },
     "execution_count": 7,
     "metadata": {},
     "output_type": "execute_result"
    }
   ],
   "source": [
    "X"
   ]
  },
  {
   "cell_type": "code",
   "execution_count": 8,
   "metadata": {},
   "outputs": [
    {
     "data": {
      "text/plain": [
       "array(['R', 'R', 'R', 'R', 'R', 'R', 'R', 'R', 'R', 'R', 'R', 'R', 'R',\n",
       "       'R', 'R', 'R', 'R', 'R', 'R', 'R', 'R', 'R', 'R', 'R', 'R', 'R',\n",
       "       'R', 'R', 'R', 'R', 'R', 'R', 'R', 'R', 'R', 'R', 'R', 'R', 'R',\n",
       "       'R', 'R', 'R', 'R', 'R', 'R', 'R', 'R', 'R', 'R', 'R', 'R', 'R',\n",
       "       'R', 'R', 'R', 'R', 'R', 'R', 'R', 'R', 'R', 'R', 'R', 'R', 'R',\n",
       "       'R', 'R', 'R', 'R', 'R', 'R', 'R', 'R', 'R', 'R', 'R', 'R', 'R',\n",
       "       'R', 'R', 'R', 'R', 'R', 'R', 'R', 'R', 'R', 'R', 'R', 'R', 'R',\n",
       "       'R', 'R', 'R', 'R', 'R', 'R', 'M', 'M', 'M', 'M', 'M', 'M', 'M',\n",
       "       'M', 'M', 'M', 'M', 'M', 'M', 'M', 'M', 'M', 'M', 'M', 'M', 'M',\n",
       "       'M', 'M', 'M', 'M', 'M', 'M', 'M', 'M', 'M', 'M', 'M', 'M', 'M',\n",
       "       'M', 'M', 'M', 'M', 'M', 'M', 'M', 'M', 'M', 'M', 'M', 'M', 'M',\n",
       "       'M', 'M', 'M', 'M', 'M', 'M', 'M', 'M', 'M', 'M', 'M', 'M', 'M',\n",
       "       'M', 'M', 'M', 'M', 'M', 'M', 'M', 'M', 'M', 'M', 'M', 'M', 'M',\n",
       "       'M', 'M', 'M', 'M', 'M', 'M', 'M', 'M', 'M', 'M', 'M', 'M', 'M',\n",
       "       'M', 'M', 'M', 'M', 'M', 'M', 'M', 'M', 'M', 'M', 'M', 'M', 'M',\n",
       "       'M', 'M', 'M', 'M', 'M', 'M', 'M', 'M', 'M', 'M', 'M', 'M', 'M'],\n",
       "      dtype=object)"
      ]
     },
     "execution_count": 8,
     "metadata": {},
     "output_type": "execute_result"
    }
   ],
   "source": [
    "Y"
   ]
  },
  {
   "cell_type": "code",
   "execution_count": 9,
   "metadata": {},
   "outputs": [
    {
     "data": {
      "text/plain": [
       "LabelEncoder()"
      ]
     },
     "execution_count": 9,
     "metadata": {},
     "output_type": "execute_result"
    }
   ],
   "source": [
    "labelencod.fit(Y)"
   ]
  },
  {
   "cell_type": "code",
   "execution_count": 10,
   "metadata": {},
   "outputs": [],
   "source": [
    "Encoded_Y = labelencod.transform(Y)"
   ]
  },
  {
   "cell_type": "code",
   "execution_count": 22,
   "metadata": {},
   "outputs": [],
   "source": [
    "import keras\n",
    "from keras import layers\n",
    "from keras import losses\n",
    "from keras import metrics\n",
    "from keras import optimizers\n",
    "import numpy\n",
    "from keras import models\n",
    "from keras import layers\n",
    "def create_baseline():\n",
    "    model = models.Sequential()\n",
    "    model.add(layers.Dense(30, activation='relu'))\n",
    "    model.add(layers.Dense(15, activation='relu'))\n",
    "    model.add(layers.Dense(1, activation= 'sigmoid'))\n",
    "    model.compile(optimizer='adam',loss='binary_crossentropy',metrics=['accuracy'])\n",
    "    return model\n"
   ]
  },
  {
   "cell_type": "code",
   "execution_count": 40,
   "metadata": {
    "scrolled": true
   },
   "outputs": [
    {
     "name": "stdout",
     "output_type": "stream",
     "text": [
      "Epoch 1/50\n",
      "165/165 [==============================] - 6s 37ms/step - loss: 0.6929 - acc: 0.5758\n",
      "Epoch 2/50\n",
      "165/165 [==============================] - 0s 1ms/step - loss: 0.6054 - acc: 0.7030\n",
      "Epoch 3/50\n",
      "165/165 [==============================] - 0s 1ms/step - loss: 0.5499 - acc: 0.7455\n",
      "Epoch 4/50\n",
      "165/165 [==============================] - 0s 1ms/step - loss: 0.4964 - acc: 0.7636\n",
      "Epoch 5/50\n",
      "165/165 [==============================] - 0s 1ms/step - loss: 0.4427 - acc: 0.8182\n",
      "Epoch 6/50\n",
      "165/165 [==============================] - 0s 1ms/step - loss: 0.3953 - acc: 0.8667\n",
      "Epoch 7/50\n",
      "165/165 [==============================] - 0s 852us/step - loss: 0.3437 - acc: 0.8848\n",
      "Epoch 8/50\n",
      "165/165 [==============================] - 0s 663us/step - loss: 0.2973 - acc: 0.8970\n",
      "Epoch 9/50\n",
      "165/165 [==============================] - 0s 758us/step - loss: 0.2596 - acc: 0.9394\n",
      "Epoch 10/50\n",
      "165/165 [==============================] - 0s 663us/step - loss: 0.2273 - acc: 0.9515\n",
      "Epoch 11/50\n",
      "165/165 [==============================] - 0s 758us/step - loss: 0.2008 - acc: 0.9515\n",
      "Epoch 12/50\n",
      "165/165 [==============================] - 0s 2ms/step - loss: 0.1724 - acc: 0.9636\n",
      "Epoch 13/50\n",
      "165/165 [==============================] - 0s 1ms/step - loss: 0.1504 - acc: 0.9818\n",
      "Epoch 14/50\n",
      "165/165 [==============================] - 0s 1ms/step - loss: 0.1329 - acc: 0.9818\n",
      "Epoch 15/50\n",
      "165/165 [==============================] - 0s 1ms/step - loss: 0.1142 - acc: 0.9818\n",
      "Epoch 16/50\n",
      "165/165 [==============================] - 0s 1ms/step - loss: 0.1006 - acc: 0.9879\n",
      "Epoch 17/50\n",
      "165/165 [==============================] - 0s 1ms/step - loss: 0.0871 - acc: 0.9939\n",
      "Epoch 18/50\n",
      "165/165 [==============================] - 0s 1ms/step - loss: 0.0734 - acc: 0.9939\n",
      "Epoch 19/50\n",
      "165/165 [==============================] - 0s 1ms/step - loss: 0.0640 - acc: 1.0000\n",
      "Epoch 20/50\n",
      "165/165 [==============================] - 0s 986us/step - loss: 0.0554 - acc: 1.0000\n",
      "Epoch 21/50\n",
      "165/165 [==============================] - 0s 1ms/step - loss: 0.0474 - acc: 1.0000\n",
      "Epoch 22/50\n",
      "165/165 [==============================] - 0s 1ms/step - loss: 0.0406 - acc: 1.0000\n",
      "Epoch 23/50\n",
      "165/165 [==============================] - 0s 1ms/step - loss: 0.0357 - acc: 1.0000\n",
      "Epoch 24/50\n",
      "165/165 [==============================] - 0s 979us/step - loss: 0.0309 - acc: 1.0000\n",
      "Epoch 25/50\n",
      "165/165 [==============================] - 0s 1ms/step - loss: 0.0273 - acc: 1.0000\n",
      "Epoch 26/50\n",
      "165/165 [==============================] - 0s 1ms/step - loss: 0.0236 - acc: 1.0000\n",
      "Epoch 27/50\n",
      "165/165 [==============================] - 0s 1ms/step - loss: 0.0216 - acc: 1.0000\n",
      "Epoch 28/50\n",
      "165/165 [==============================] - 0s 1ms/step - loss: 0.0189 - acc: 1.0000\n",
      "Epoch 29/50\n",
      "165/165 [==============================] - 0s 1ms/step - loss: 0.0167 - acc: 1.0000\n",
      "Epoch 30/50\n",
      "165/165 [==============================] - 0s 1ms/step - loss: 0.0150 - acc: 1.0000\n",
      "Epoch 31/50\n",
      "165/165 [==============================] - 0s 1ms/step - loss: 0.0136 - acc: 1.0000\n",
      "Epoch 32/50\n",
      "165/165 [==============================] - 0s 1ms/step - loss: 0.0123 - acc: 1.0000\n",
      "Epoch 33/50\n",
      "165/165 [==============================] - 0s 2ms/step - loss: 0.0111 - acc: 1.0000\n",
      "Epoch 34/50\n",
      "165/165 [==============================] - 0s 1ms/step - loss: 0.0101 - acc: 1.0000\n",
      "Epoch 35/50\n",
      "165/165 [==============================] - 0s 1ms/step - loss: 0.0091 - acc: 1.0000\n",
      "Epoch 36/50\n",
      "165/165 [==============================] - 0s 2ms/step - loss: 0.0084 - acc: 1.0000\n",
      "Epoch 37/50\n",
      "165/165 [==============================] - 0s 1ms/step - loss: 0.0076 - acc: 1.0000\n",
      "Epoch 38/50\n",
      "165/165 [==============================] - 0s 1ms/step - loss: 0.0069 - acc: 1.0000\n",
      "Epoch 39/50\n",
      "165/165 [==============================] - 0s 1ms/step - loss: 0.0063 - acc: 1.0000\n",
      "Epoch 40/50\n",
      "165/165 [==============================] - 0s 1ms/step - loss: 0.0057 - acc: 1.0000\n",
      "Epoch 41/50\n",
      "165/165 [==============================] - 0s 1ms/step - loss: 0.0053 - acc: 1.0000\n",
      "Epoch 42/50\n",
      "165/165 [==============================] - 0s 1ms/step - loss: 0.0049 - acc: 1.0000\n",
      "Epoch 43/50\n",
      "165/165 [==============================] - 0s 1ms/step - loss: 0.0045 - acc: 1.0000\n",
      "Epoch 44/50\n",
      "165/165 [==============================] - 0s 1ms/step - loss: 0.0042 - acc: 1.0000\n",
      "Epoch 45/50\n",
      "165/165 [==============================] - 0s 1ms/step - loss: 0.0039 - acc: 1.0000\n",
      "Epoch 46/50\n",
      "165/165 [==============================] - 0s 1ms/step - loss: 0.0037 - acc: 1.0000\n",
      "Epoch 47/50\n",
      "165/165 [==============================] - 0s 1ms/step - loss: 0.0034 - acc: 1.0000\n",
      "Epoch 48/50\n",
      "165/165 [==============================] - 0s 1ms/step - loss: 0.0032 - acc: 1.0000\n",
      "Epoch 49/50\n",
      "165/165 [==============================] - 0s 1ms/step - loss: 0.0030 - acc: 1.0000\n",
      "Epoch 50/50\n",
      "165/165 [==============================] - 0s 1ms/step - loss: 0.0028 - acc: 1.0000\n",
      "43/43 [==============================] - 2s 51ms/step\n",
      "Epoch 1/50\n",
      "166/166 [==============================] - 6s 37ms/step - loss: 0.7026 - acc: 0.5482\n",
      "Epoch 2/50\n",
      "166/166 [==============================] - 0s 1ms/step - loss: 0.5816 - acc: 0.7470\n",
      "Epoch 3/50\n",
      "166/166 [==============================] - 0s 2ms/step - loss: 0.5050 - acc: 0.7892\n",
      "Epoch 4/50\n",
      "166/166 [==============================] - 0s 2ms/step - loss: 0.4376 - acc: 0.8373\n",
      "Epoch 5/50\n",
      "166/166 [==============================] - 0s 1ms/step - loss: 0.3804 - acc: 0.8675\n",
      "Epoch 6/50\n",
      "166/166 [==============================] - 0s 1ms/step - loss: 0.3268 - acc: 0.8795\n",
      "Epoch 7/50\n",
      "166/166 [==============================] - 0s 1ms/step - loss: 0.2839 - acc: 0.9157\n",
      "Epoch 8/50\n",
      "166/166 [==============================] - 0s 1ms/step - loss: 0.2439 - acc: 0.9398\n",
      "Epoch 9/50\n",
      "166/166 [==============================] - 0s 1ms/step - loss: 0.2075 - acc: 0.9639\n",
      "Epoch 10/50\n",
      "166/166 [==============================] - 0s 1ms/step - loss: 0.1771 - acc: 0.9759\n",
      "Epoch 11/50\n",
      "166/166 [==============================] - 0s 1ms/step - loss: 0.1541 - acc: 0.9819\n",
      "Epoch 12/50\n",
      "166/166 [==============================] - 0s 2ms/step - loss: 0.1334 - acc: 0.9880\n",
      "Epoch 13/50\n",
      "166/166 [==============================] - 0s 2ms/step - loss: 0.1147 - acc: 0.9940\n",
      "Epoch 14/50\n",
      "166/166 [==============================] - 0s 2ms/step - loss: 0.0999 - acc: 0.9880\n",
      "Epoch 15/50\n",
      "166/166 [==============================] - 0s 1ms/step - loss: 0.0844 - acc: 0.9940\n",
      "Epoch 16/50\n",
      "166/166 [==============================] - 0s 1ms/step - loss: 0.0730 - acc: 1.0000\n",
      "Epoch 17/50\n",
      "166/166 [==============================] - 0s 2ms/step - loss: 0.0618 - acc: 1.0000\n",
      "Epoch 18/50\n",
      "166/166 [==============================] - 0s 1ms/step - loss: 0.0523 - acc: 1.0000\n",
      "Epoch 19/50\n",
      "166/166 [==============================] - 0s 2ms/step - loss: 0.0453 - acc: 1.0000\n",
      "Epoch 20/50\n",
      "166/166 [==============================] - 0s 1ms/step - loss: 0.0392 - acc: 1.0000\n",
      "Epoch 21/50\n",
      "166/166 [==============================] - 0s 1ms/step - loss: 0.0332 - acc: 1.0000\n",
      "Epoch 22/50\n",
      "166/166 [==============================] - 0s 1ms/step - loss: 0.0296 - acc: 1.0000\n",
      "Epoch 23/50\n",
      "166/166 [==============================] - 0s 1ms/step - loss: 0.0253 - acc: 1.0000\n",
      "Epoch 24/50\n",
      "166/166 [==============================] - 0s 1ms/step - loss: 0.0209 - acc: 1.0000\n",
      "Epoch 25/50\n",
      "166/166 [==============================] - 0s 2ms/step - loss: 0.0185 - acc: 1.0000\n",
      "Epoch 26/50\n",
      "166/166 [==============================] - 0s 1ms/step - loss: 0.0161 - acc: 1.0000\n",
      "Epoch 27/50\n",
      "166/166 [==============================] - 0s 1ms/step - loss: 0.0144 - acc: 1.0000\n",
      "Epoch 28/50\n",
      "166/166 [==============================] - 0s 2ms/step - loss: 0.0126 - acc: 1.0000\n",
      "Epoch 29/50\n",
      "166/166 [==============================] - 0s 1ms/step - loss: 0.0113 - acc: 1.0000\n",
      "Epoch 30/50\n",
      "166/166 [==============================] - 0s 2ms/step - loss: 0.0101 - acc: 1.0000\n",
      "Epoch 31/50\n",
      "166/166 [==============================] - 0s 1ms/step - loss: 0.0092 - acc: 1.0000\n",
      "Epoch 32/50\n",
      "166/166 [==============================] - 0s 2ms/step - loss: 0.0084 - acc: 1.0000\n",
      "Epoch 33/50\n",
      "166/166 [==============================] - 0s 1ms/step - loss: 0.0076 - acc: 1.0000\n",
      "Epoch 34/50\n",
      "166/166 [==============================] - 0s 1ms/step - loss: 0.0069 - acc: 1.0000\n",
      "Epoch 35/50\n"
     ]
    },
    {
     "name": "stdout",
     "output_type": "stream",
     "text": [
      "166/166 [==============================] - 0s 1ms/step - loss: 0.0063 - acc: 1.0000\n",
      "Epoch 36/50\n",
      "166/166 [==============================] - 0s 1ms/step - loss: 0.0058 - acc: 1.0000\n",
      "Epoch 37/50\n",
      "166/166 [==============================] - 0s 935us/step - loss: 0.0053 - acc: 1.0000\n",
      "Epoch 38/50\n",
      "166/166 [==============================] - 0s 1ms/step - loss: 0.0051 - acc: 1.0000\n",
      "Epoch 39/50\n",
      "166/166 [==============================] - 0s 1ms/step - loss: 0.0046 - acc: 1.0000\n",
      "Epoch 40/50\n",
      "166/166 [==============================] - 0s 1ms/step - loss: 0.0042 - acc: 1.0000\n",
      "Epoch 41/50\n",
      "166/166 [==============================] - 0s 1ms/step - loss: 0.0039 - acc: 1.0000\n",
      "Epoch 42/50\n",
      "166/166 [==============================] - 0s 1ms/step - loss: 0.0036 - acc: 1.0000\n",
      "Epoch 43/50\n",
      "166/166 [==============================] - 0s 1ms/step - loss: 0.0034 - acc: 1.0000\n",
      "Epoch 44/50\n",
      "166/166 [==============================] - 0s 1ms/step - loss: 0.0031 - acc: 1.0000\n",
      "Epoch 45/50\n",
      "166/166 [==============================] - 0s 1ms/step - loss: 0.0029 - acc: 1.0000\n",
      "Epoch 46/50\n",
      "166/166 [==============================] - 0s 2ms/step - loss: 0.0028 - acc: 1.0000\n",
      "Epoch 47/50\n",
      "166/166 [==============================] - 0s 1ms/step - loss: 0.0026 - acc: 1.0000\n",
      "Epoch 48/50\n",
      "166/166 [==============================] - 0s 2ms/step - loss: 0.0024 - acc: 1.0000\n",
      "Epoch 49/50\n",
      "166/166 [==============================] - 0s 2ms/step - loss: 0.0023 - acc: 1.0000\n",
      "Epoch 50/50\n",
      "166/166 [==============================] - 0s 2ms/step - loss: 0.0022 - acc: 1.0000\n",
      "42/42 [==============================] - 3s 64ms/step\n",
      "Epoch 1/50\n",
      "167/167 [==============================] - 7s 41ms/step - loss: 0.7949 - acc: 0.5269\n",
      "Epoch 2/50\n",
      "167/167 [==============================] - 0s 1ms/step - loss: 0.5848 - acc: 0.7006\n",
      "Epoch 3/50\n",
      "167/167 [==============================] - 0s 2ms/step - loss: 0.4911 - acc: 0.7784\n",
      "Epoch 4/50\n",
      "167/167 [==============================] - 0s 1ms/step - loss: 0.4245 - acc: 0.8563\n",
      "Epoch 5/50\n",
      "167/167 [==============================] - 0s 1ms/step - loss: 0.3652 - acc: 0.9102\n",
      "Epoch 6/50\n",
      "167/167 [==============================] - 0s 1ms/step - loss: 0.3202 - acc: 0.9102\n",
      "Epoch 7/50\n",
      "167/167 [==============================] - 0s 1ms/step - loss: 0.2775 - acc: 0.9222\n",
      "Epoch 8/50\n",
      "167/167 [==============================] - 0s 1ms/step - loss: 0.2425 - acc: 0.9461\n",
      "Epoch 9/50\n",
      "167/167 [==============================] - 0s 1ms/step - loss: 0.2116 - acc: 0.9401\n",
      "Epoch 10/50\n",
      "167/167 [==============================] - 0s 2ms/step - loss: 0.1816 - acc: 0.9521\n",
      "Epoch 11/50\n",
      "167/167 [==============================] - 0s 1ms/step - loss: 0.1596 - acc: 0.9581\n",
      "Epoch 12/50\n",
      "167/167 [==============================] - 0s 2ms/step - loss: 0.1381 - acc: 0.9641\n",
      "Epoch 13/50\n",
      "167/167 [==============================] - 0s 1ms/step - loss: 0.1218 - acc: 0.9760\n",
      "Epoch 14/50\n",
      "167/167 [==============================] - 0s 1ms/step - loss: 0.1060 - acc: 0.9820\n",
      "Epoch 15/50\n",
      "167/167 [==============================] - 0s 1ms/step - loss: 0.0926 - acc: 0.9820\n",
      "Epoch 16/50\n",
      "167/167 [==============================] - 0s 1ms/step - loss: 0.0807 - acc: 0.9940\n",
      "Epoch 17/50\n",
      "167/167 [==============================] - 0s 1ms/step - loss: 0.0713 - acc: 1.0000\n",
      "Epoch 18/50\n",
      "167/167 [==============================] - 0s 1ms/step - loss: 0.0623 - acc: 1.0000\n",
      "Epoch 19/50\n",
      "167/167 [==============================] - 0s 1ms/step - loss: 0.0533 - acc: 1.0000\n",
      "Epoch 20/50\n",
      "167/167 [==============================] - 0s 1ms/step - loss: 0.0464 - acc: 1.0000\n",
      "Epoch 21/50\n",
      "167/167 [==============================] - 0s 1ms/step - loss: 0.0407 - acc: 1.0000\n",
      "Epoch 22/50\n",
      "167/167 [==============================] - 0s 1ms/step - loss: 0.0354 - acc: 1.0000\n",
      "Epoch 23/50\n",
      "167/167 [==============================] - 0s 1ms/step - loss: 0.0308 - acc: 1.0000\n",
      "Epoch 24/50\n",
      "167/167 [==============================] - 0s 2ms/step - loss: 0.0268 - acc: 1.0000\n",
      "Epoch 25/50\n",
      "167/167 [==============================] - 0s 2ms/step - loss: 0.0240 - acc: 1.0000\n",
      "Epoch 26/50\n",
      "167/167 [==============================] - 0s 1ms/step - loss: 0.0210 - acc: 1.0000\n",
      "Epoch 27/50\n",
      "167/167 [==============================] - 0s 2ms/step - loss: 0.0188 - acc: 1.0000\n",
      "Epoch 28/50\n",
      "167/167 [==============================] - 0s 2ms/step - loss: 0.0169 - acc: 1.0000\n",
      "Epoch 29/50\n",
      "167/167 [==============================] - 0s 2ms/step - loss: 0.0152 - acc: 1.0000\n",
      "Epoch 30/50\n",
      "167/167 [==============================] - 0s 1ms/step - loss: 0.0134 - acc: 1.0000\n",
      "Epoch 31/50\n",
      "167/167 [==============================] - 0s 2ms/step - loss: 0.0121 - acc: 1.0000\n",
      "Epoch 32/50\n",
      "167/167 [==============================] - 0s 2ms/step - loss: 0.0107 - acc: 1.0000\n",
      "Epoch 33/50\n",
      "167/167 [==============================] - 0s 1ms/step - loss: 0.0096 - acc: 1.0000\n",
      "Epoch 34/50\n",
      "167/167 [==============================] - 0s 1ms/step - loss: 0.0088 - acc: 1.0000\n",
      "Epoch 35/50\n",
      "167/167 [==============================] - 0s 2ms/step - loss: 0.0079 - acc: 1.0000\n",
      "Epoch 36/50\n",
      "167/167 [==============================] - 0s 1ms/step - loss: 0.0072 - acc: 1.0000\n",
      "Epoch 37/50\n",
      "167/167 [==============================] - 0s 1ms/step - loss: 0.0067 - acc: 1.0000\n",
      "Epoch 38/50\n",
      "167/167 [==============================] - 0s 1ms/step - loss: 0.0061 - acc: 1.0000\n",
      "Epoch 39/50\n",
      "167/167 [==============================] - 0s 1ms/step - loss: 0.0057 - acc: 1.0000\n",
      "Epoch 40/50\n",
      "167/167 [==============================] - 0s 2ms/step - loss: 0.0053 - acc: 1.0000\n",
      "Epoch 41/50\n",
      "167/167 [==============================] - 0s 2ms/step - loss: 0.0048 - acc: 1.0000\n",
      "Epoch 42/50\n",
      "167/167 [==============================] - 0s 2ms/step - loss: 0.0045 - acc: 1.0000\n",
      "Epoch 43/50\n",
      "167/167 [==============================] - 0s 2ms/step - loss: 0.0042 - acc: 1.0000\n",
      "Epoch 44/50\n",
      "167/167 [==============================] - 0s 1ms/step - loss: 0.0039 - acc: 1.0000\n",
      "Epoch 45/50\n",
      "167/167 [==============================] - 0s 2ms/step - loss: 0.0036 - acc: 1.0000\n",
      "Epoch 46/50\n",
      "167/167 [==============================] - 0s 1ms/step - loss: 0.0034 - acc: 1.0000\n",
      "Epoch 47/50\n",
      "167/167 [==============================] - 0s 2ms/step - loss: 0.0032 - acc: 1.0000\n",
      "Epoch 48/50\n",
      "167/167 [==============================] - 0s 2ms/step - loss: 0.0030 - acc: 1.0000\n",
      "Epoch 49/50\n",
      "167/167 [==============================] - 0s 2ms/step - loss: 0.0028 - acc: 1.0000\n",
      "Epoch 50/50\n",
      "167/167 [==============================] - 0s 1ms/step - loss: 0.0027 - acc: 1.0000\n",
      "41/41 [==============================] - 3s 69ms/step\n",
      "Epoch 1/50\n",
      "167/167 [==============================] - 9s 52ms/step - loss: 0.6915 - acc: 0.5449\n",
      "Epoch 2/50\n",
      "167/167 [==============================] - 0s 850us/step - loss: 0.5291 - acc: 0.7725\n",
      "Epoch 3/50\n",
      "167/167 [==============================] - 0s 1ms/step - loss: 0.4479 - acc: 0.8144\n",
      "Epoch 4/50\n",
      "167/167 [==============================] - 0s 2ms/step - loss: 0.3779 - acc: 0.8623\n",
      "Epoch 5/50\n",
      "167/167 [==============================] - 0s 1ms/step - loss: 0.3233 - acc: 0.9042\n",
      "Epoch 6/50\n",
      "167/167 [==============================] - 0s 1ms/step - loss: 0.2783 - acc: 0.9222\n",
      "Epoch 7/50\n",
      "167/167 [==============================] - 0s 1ms/step - loss: 0.2366 - acc: 0.9521\n",
      "Epoch 8/50\n",
      "167/167 [==============================] - 0s 2ms/step - loss: 0.2030 - acc: 0.9581\n",
      "Epoch 9/50\n",
      "167/167 [==============================] - 0s 1ms/step - loss: 0.1748 - acc: 0.9760\n",
      "Epoch 10/50\n",
      "167/167 [==============================] - 0s 2ms/step - loss: 0.1523 - acc: 0.9820\n",
      "Epoch 11/50\n",
      "167/167 [==============================] - 0s 2ms/step - loss: 0.1326 - acc: 0.9760\n",
      "Epoch 12/50\n",
      "167/167 [==============================] - 0s 1ms/step - loss: 0.1146 - acc: 0.9820\n",
      "Epoch 13/50\n",
      "167/167 [==============================] - 0s 1ms/step - loss: 0.0992 - acc: 0.9820\n",
      "Epoch 14/50\n",
      "167/167 [==============================] - 0s 2ms/step - loss: 0.0867 - acc: 0.9820\n",
      "Epoch 15/50\n",
      "167/167 [==============================] - 0s 1ms/step - loss: 0.0765 - acc: 0.9880\n",
      "Epoch 16/50\n",
      "167/167 [==============================] - 0s 2ms/step - loss: 0.0663 - acc: 0.9880\n",
      "Epoch 17/50\n",
      "167/167 [==============================] - 0s 3ms/step - loss: 0.0586 - acc: 0.9880\n",
      "Epoch 18/50\n",
      "167/167 [==============================] - 0s 2ms/step - loss: 0.0526 - acc: 0.9880\n",
      "Epoch 19/50\n"
     ]
    },
    {
     "name": "stdout",
     "output_type": "stream",
     "text": [
      "167/167 [==============================] - 0s 1ms/step - loss: 0.0468 - acc: 0.9880\n",
      "Epoch 20/50\n",
      "167/167 [==============================] - 0s 1ms/step - loss: 0.0412 - acc: 0.9940\n",
      "Epoch 21/50\n",
      "167/167 [==============================] - 0s 2ms/step - loss: 0.0370 - acc: 0.9940\n",
      "Epoch 22/50\n",
      "167/167 [==============================] - 0s 1ms/step - loss: 0.0345 - acc: 0.9940\n",
      "Epoch 23/50\n",
      "167/167 [==============================] - 0s 1ms/step - loss: 0.0303 - acc: 0.9940\n",
      "Epoch 24/50\n",
      "167/167 [==============================] - 0s 1ms/step - loss: 0.0271 - acc: 0.9940\n",
      "Epoch 25/50\n",
      "167/167 [==============================] - 0s 1ms/step - loss: 0.0243 - acc: 1.0000\n",
      "Epoch 26/50\n",
      "167/167 [==============================] - 0s 1ms/step - loss: 0.0220 - acc: 1.0000\n",
      "Epoch 27/50\n",
      "167/167 [==============================] - 0s 2ms/step - loss: 0.0195 - acc: 1.0000\n",
      "Epoch 28/50\n",
      "167/167 [==============================] - 0s 1ms/step - loss: 0.0173 - acc: 1.0000\n",
      "Epoch 29/50\n",
      "167/167 [==============================] - 0s 1ms/step - loss: 0.0157 - acc: 1.0000\n",
      "Epoch 30/50\n",
      "167/167 [==============================] - 0s 1ms/step - loss: 0.0141 - acc: 1.0000\n",
      "Epoch 31/50\n",
      "167/167 [==============================] - 0s 1ms/step - loss: 0.0126 - acc: 1.0000\n",
      "Epoch 32/50\n",
      "167/167 [==============================] - 0s 1ms/step - loss: 0.0111 - acc: 1.0000\n",
      "Epoch 33/50\n",
      "167/167 [==============================] - 0s 2ms/step - loss: 0.0101 - acc: 1.0000\n",
      "Epoch 34/50\n",
      "167/167 [==============================] - 0s 2ms/step - loss: 0.0088 - acc: 1.0000\n",
      "Epoch 35/50\n",
      "167/167 [==============================] - 0s 2ms/step - loss: 0.0078 - acc: 1.0000\n",
      "Epoch 36/50\n",
      "167/167 [==============================] - 0s 1ms/step - loss: 0.0070 - acc: 1.0000\n",
      "Epoch 37/50\n",
      "167/167 [==============================] - 0s 1ms/step - loss: 0.0063 - acc: 1.0000\n",
      "Epoch 38/50\n",
      "167/167 [==============================] - 0s 1ms/step - loss: 0.0057 - acc: 1.0000\n",
      "Epoch 39/50\n",
      "167/167 [==============================] - 0s 1ms/step - loss: 0.0051 - acc: 1.0000\n",
      "Epoch 40/50\n",
      "167/167 [==============================] - 0s 1ms/step - loss: 0.0047 - acc: 1.0000\n",
      "Epoch 41/50\n",
      "167/167 [==============================] - 0s 2ms/step - loss: 0.0043 - acc: 1.0000\n",
      "Epoch 42/50\n",
      "167/167 [==============================] - 0s 1ms/step - loss: 0.0039 - acc: 1.0000\n",
      "Epoch 43/50\n",
      "167/167 [==============================] - 0s 1ms/step - loss: 0.0036 - acc: 1.0000\n",
      "Epoch 44/50\n",
      "167/167 [==============================] - 0s 1ms/step - loss: 0.0033 - acc: 1.0000\n",
      "Epoch 45/50\n",
      "167/167 [==============================] - 0s 2ms/step - loss: 0.0031 - acc: 1.0000\n",
      "Epoch 46/50\n",
      "167/167 [==============================] - 0s 1ms/step - loss: 0.0029 - acc: 1.0000\n",
      "Epoch 47/50\n",
      "167/167 [==============================] - 0s 1ms/step - loss: 0.0027 - acc: 1.0000\n",
      "Epoch 48/50\n",
      "167/167 [==============================] - 0s 1ms/step - loss: 0.0025 - acc: 1.0000\n",
      "Epoch 49/50\n",
      "167/167 [==============================] - 0s 1ms/step - loss: 0.0024 - acc: 1.0000\n",
      "Epoch 50/50\n",
      "167/167 [==============================] - 0s 1ms/step - loss: 0.0022 - acc: 1.0000\n",
      "41/41 [==============================] - 4s 99ms/step\n",
      "Epoch 1/50\n",
      "167/167 [==============================] - 8s 50ms/step - loss: 0.7260 - acc: 0.5030\n",
      "Epoch 2/50\n",
      "167/167 [==============================] - 0s 2ms/step - loss: 0.5640 - acc: 0.7485\n",
      "Epoch 3/50\n",
      "167/167 [==============================] - 0s 1ms/step - loss: 0.4675 - acc: 0.8383\n",
      "Epoch 4/50\n",
      "167/167 [==============================] - 0s 1ms/step - loss: 0.3963 - acc: 0.8862\n",
      "Epoch 5/50\n",
      "167/167 [==============================] - 0s 1ms/step - loss: 0.3404 - acc: 0.8922\n",
      "Epoch 6/50\n",
      "167/167 [==============================] - 0s 1ms/step - loss: 0.2955 - acc: 0.9042\n",
      "Epoch 7/50\n",
      "167/167 [==============================] - 0s 1ms/step - loss: 0.2570 - acc: 0.9281\n",
      "Epoch 8/50\n",
      "167/167 [==============================] - 0s 1ms/step - loss: 0.2254 - acc: 0.9521\n",
      "Epoch 9/50\n",
      "167/167 [==============================] - 0s 1ms/step - loss: 0.1970 - acc: 0.9581\n",
      "Epoch 10/50\n",
      "167/167 [==============================] - 0s 1ms/step - loss: 0.1718 - acc: 0.9641\n",
      "Epoch 11/50\n",
      "167/167 [==============================] - 0s 2ms/step - loss: 0.1492 - acc: 0.9820\n",
      "Epoch 12/50\n",
      "167/167 [==============================] - 0s 1ms/step - loss: 0.1296 - acc: 0.9760\n",
      "Epoch 13/50\n",
      "167/167 [==============================] - 0s 1ms/step - loss: 0.1105 - acc: 0.9880\n",
      "Epoch 14/50\n",
      "167/167 [==============================] - 0s 1ms/step - loss: 0.0945 - acc: 0.9940\n",
      "Epoch 15/50\n",
      "167/167 [==============================] - 0s 2ms/step - loss: 0.0818 - acc: 1.0000\n",
      "Epoch 16/50\n",
      "167/167 [==============================] - 0s 2ms/step - loss: 0.0696 - acc: 1.0000\n",
      "Epoch 17/50\n",
      "167/167 [==============================] - 0s 1ms/step - loss: 0.0615 - acc: 1.0000\n",
      "Epoch 18/50\n",
      "167/167 [==============================] - 0s 1ms/step - loss: 0.0529 - acc: 1.0000\n",
      "Epoch 19/50\n",
      "167/167 [==============================] - 0s 1ms/step - loss: 0.0453 - acc: 1.0000\n",
      "Epoch 20/50\n",
      "167/167 [==============================] - 0s 1ms/step - loss: 0.0400 - acc: 1.0000\n",
      "Epoch 21/50\n",
      "167/167 [==============================] - 0s 2ms/step - loss: 0.0351 - acc: 1.0000\n",
      "Epoch 22/50\n",
      "167/167 [==============================] - 0s 1ms/step - loss: 0.0314 - acc: 1.0000\n",
      "Epoch 23/50\n",
      "167/167 [==============================] - 0s 1ms/step - loss: 0.0268 - acc: 1.0000\n",
      "Epoch 24/50\n",
      "167/167 [==============================] - 0s 2ms/step - loss: 0.0235 - acc: 1.0000\n",
      "Epoch 25/50\n",
      "167/167 [==============================] - 0s 2ms/step - loss: 0.0211 - acc: 1.0000\n",
      "Epoch 26/50\n",
      "167/167 [==============================] - 0s 2ms/step - loss: 0.0189 - acc: 1.0000\n",
      "Epoch 27/50\n",
      "167/167 [==============================] - 0s 2ms/step - loss: 0.0170 - acc: 1.0000\n",
      "Epoch 28/50\n",
      "167/167 [==============================] - 0s 1ms/step - loss: 0.0152 - acc: 1.0000\n",
      "Epoch 29/50\n",
      "167/167 [==============================] - 0s 2ms/step - loss: 0.0139 - acc: 1.0000A: 0s - loss: 0.0136 - acc: 1.0\n",
      "Epoch 30/50\n",
      "167/167 [==============================] - 0s 2ms/step - loss: 0.0124 - acc: 1.0000\n",
      "Epoch 31/50\n",
      "167/167 [==============================] - 0s 2ms/step - loss: 0.0113 - acc: 1.0000\n",
      "Epoch 32/50\n",
      "167/167 [==============================] - 0s 2ms/step - loss: 0.0105 - acc: 1.0000\n",
      "Epoch 33/50\n",
      "167/167 [==============================] - 0s 2ms/step - loss: 0.0096 - acc: 1.0000A: 0s - loss: 0.0099 - acc: 1.00\n",
      "Epoch 34/50\n",
      "167/167 [==============================] - 0s 2ms/step - loss: 0.0090 - acc: 1.0000\n",
      "Epoch 35/50\n",
      "167/167 [==============================] - 0s 2ms/step - loss: 0.0081 - acc: 1.0000\n",
      "Epoch 36/50\n",
      "167/167 [==============================] - 0s 3ms/step - loss: 0.0074 - acc: 1.0000\n",
      "Epoch 37/50\n",
      "167/167 [==============================] - 0s 2ms/step - loss: 0.0070 - acc: 1.0000\n",
      "Epoch 38/50\n",
      "167/167 [==============================] - 0s 3ms/step - loss: 0.0064 - acc: 1.0000\n",
      "Epoch 39/50\n",
      "167/167 [==============================] - 0s 2ms/step - loss: 0.0058 - acc: 1.0000A: 0s - loss: 0.0060 - acc: 1.00\n",
      "Epoch 40/50\n",
      "167/167 [==============================] - 0s 2ms/step - loss: 0.0054 - acc: 1.0000\n",
      "Epoch 41/50\n",
      "167/167 [==============================] - 0s 2ms/step - loss: 0.0050 - acc: 1.0000\n",
      "Epoch 42/50\n",
      "167/167 [==============================] - 0s 2ms/step - loss: 0.0047 - acc: 1.0000\n",
      "Epoch 43/50\n",
      "167/167 [==============================] - 0s 2ms/step - loss: 0.0044 - acc: 1.0000\n",
      "Epoch 44/50\n",
      "167/167 [==============================] - 0s 2ms/step - loss: 0.0041 - acc: 1.0000\n",
      "Epoch 45/50\n",
      "167/167 [==============================] - 0s 1ms/step - loss: 0.0039 - acc: 1.0000\n",
      "Epoch 46/50\n",
      "167/167 [==============================] - 0s 1ms/step - loss: 0.0036 - acc: 1.0000\n",
      "Epoch 47/50\n",
      "167/167 [==============================] - 0s 2ms/step - loss: 0.0034 - acc: 1.0000\n",
      "Epoch 48/50\n",
      "167/167 [==============================] - 0s 1ms/step - loss: 0.0032 - acc: 1.0000\n",
      "Epoch 49/50\n",
      "167/167 [==============================] - 0s 2ms/step - loss: 0.0030 - acc: 1.0000\n",
      "Epoch 50/50\n",
      "167/167 [==============================] - 0s 1ms/step - loss: 0.0029 - acc: 1.0000\n",
      "41/41 [==============================] - 3s 65ms/step\n",
      "Standardized: 86.05% (2.85%)\n"
     ]
    }
   ],
   "source": [
    "numpy.random.seed(seed)\n",
    "estimators = []\n",
    "estimators.append(('standardize', StandardScaler()))\n",
    "estimators.append(('mlp', KerasClassifier(build_fn=create_baseline, epochs=50, batch_size=5, verbose=1)))\n",
    "pipeline = Pipeline(estimators)\n",
    "kfold = StratifiedKFold(n_splits=5, shuffle=True, random_state=seed)\n",
    "results = cross_val_score(pipeline, X, Encoded_Y, cv=kfold)\n",
    "print(\"Standardized: %.2f%% (%.2f%%)\" % (results.mean()*100, results.std()*100))"
   ]
  },
  {
   "cell_type": "code",
   "execution_count": 34,
   "metadata": {},
   "outputs": [
    {
     "data": {
      "text/plain": [
       "'30 30 neurons\\n   50 epochs n-split= 5\\n   84.57% (4.57%)'"
      ]
     },
     "execution_count": 34,
     "metadata": {},
     "output_type": "execute_result"
    }
   ],
   "source": [
    " '''30 30 neurons\n",
    "    50 epochs n-split= 5\n",
    "    84.57% (4.57%)'''"
   ]
  },
  {
   "cell_type": "code",
   "execution_count": 35,
   "metadata": {},
   "outputs": [
    {
     "data": {
      "text/plain": [
       "'30 30 neurons\\n    25 epochs n-split= 5\\n    83.61% (4.22%)'"
      ]
     },
     "execution_count": 35,
     "metadata": {},
     "output_type": "execute_result"
    }
   ],
   "source": [
    "'''30 30 neurons\n",
    "    25 epochs n-split= 5\n",
    "    83.61% (4.22%)'''"
   ]
  },
  {
   "cell_type": "code",
   "execution_count": 36,
   "metadata": {},
   "outputs": [
    {
     "data": {
      "text/plain": [
       "'30 15 neurons\\n50 epochs n-split= 5\\nStandardized: 85.56% (3.48%)'"
      ]
     },
     "execution_count": 36,
     "metadata": {},
     "output_type": "execute_result"
    }
   ],
   "source": [
    "'''30 15 neurons\n",
    "50 epochs n-split= 5\n",
    "Standardized: 85.56% (3.48%)'''"
   ]
  },
  {
   "cell_type": "code",
   "execution_count": 37,
   "metadata": {},
   "outputs": [
    {
     "data": {
      "text/plain": [
       "'30 15 neurons\\n30 epochs n_split = 5\\nStandardized: 83.63% (4.46%)'"
      ]
     },
     "execution_count": 37,
     "metadata": {},
     "output_type": "execute_result"
    }
   ],
   "source": [
    "'''30 15 neurons\n",
    "30 epochs n_split = 5\n",
    "Standardized: 83.63% (4.46%)'''"
   ]
  },
  {
   "cell_type": "code",
   "execution_count": 38,
   "metadata": {},
   "outputs": [
    {
     "data": {
      "text/plain": [
       "'30 15 neurons\\n30 epochs n_split = 10\\nStandardized: 84.52% (8.52%)'"
      ]
     },
     "execution_count": 38,
     "metadata": {},
     "output_type": "execute_result"
    }
   ],
   "source": [
    "'''30 15 neurons\n",
    "30 epochs n_split = 10\n",
    "Standardized: 84.52% (8.52%)'''"
   ]
  },
  {
   "cell_type": "code",
   "execution_count": 39,
   "metadata": {},
   "outputs": [
    {
     "data": {
      "text/plain": [
       "' 30 15 neurons \\n50 epochs n-split =10\\nStandardized: 82.18% (6.58%)'"
      ]
     },
     "execution_count": 39,
     "metadata": {},
     "output_type": "execute_result"
    }
   ],
   "source": [
    "''' 30 15 neurons \n",
    "50 epochs n-split =10\n",
    "Standardized: 82.18% (6.58%)'''"
   ]
  },
  {
   "cell_type": "code",
   "execution_count": 41,
   "metadata": {},
   "outputs": [
    {
     "data": {
      "text/plain": [
       "'30 15 neurons\\n50 epochs n_split = 5\\nStandardized: 86.05% (2.85%) BEST SCORE'"
      ]
     },
     "execution_count": 41,
     "metadata": {},
     "output_type": "execute_result"
    }
   ],
   "source": [
    "'''30 15 neurons\n",
    "50 epochs n_split = 5\n",
    "Standardized: 86.05% (2.85%) BEST SCORE'''"
   ]
  },
  {
   "cell_type": "code",
   "execution_count": null,
   "metadata": {},
   "outputs": [],
   "source": []
  }
 ],
 "metadata": {
  "kernelspec": {
   "display_name": "Python 3",
   "language": "python",
   "name": "python3"
  },
  "language_info": {
   "codemirror_mode": {
    "name": "ipython",
    "version": 3
   },
   "file_extension": ".py",
   "mimetype": "text/x-python",
   "name": "python",
   "nbconvert_exporter": "python",
   "pygments_lexer": "ipython3",
   "version": "3.7.3"
  }
 },
 "nbformat": 4,
 "nbformat_minor": 2
}
